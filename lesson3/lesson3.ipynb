{
 "cells": [
  {
   "cell_type": "markdown",
   "id": "b2a92f4c-1cb4-4d52-8c72-e87bb85f6217",
   "metadata": {},
   "source": [
    "# pandas\n",
    "The website lessons covered in this lesson are:\n",
    "- [Lesson 2.1](https://nasa-sarp.github.io/sarp_lessons/sarp_lessons/1_python_progression/2-tabular_data/2-1_pandas.html) Intro to pandas"
   ]
  },
  {
   "cell_type": "markdown",
   "id": "4185d6ab-c540-416a-87d4-b6f40f6d674b",
   "metadata": {},
   "source": [
    "## importing libraries"
   ]
  },
  {
   "cell_type": "code",
   "execution_count": 1,
   "id": "492b7445-34ca-4788-b3f5-b7794f08b8bf",
   "metadata": {},
   "outputs": [
    {
     "ename": "NameError",
     "evalue": "name 'math' is not defined",
     "output_type": "error",
     "traceback": [
      "\u001b[0;31m---------------------------------------------------------------------------\u001b[0m",
      "\u001b[0;31mNameError\u001b[0m                                 Traceback (most recent call last)",
      "Cell \u001b[0;32mIn[1], line 1\u001b[0m\n\u001b[0;32m----> 1\u001b[0m \u001b[43mmath\u001b[49m\u001b[38;5;241m.\u001b[39mfactorial(\u001b[38;5;241m3\u001b[39m)\n",
      "\u001b[0;31mNameError\u001b[0m: name 'math' is not defined"
     ]
    }
   ],
   "source": [
    "math.factorial(3)"
   ]
  },
  {
   "cell_type": "code",
   "execution_count": 2,
   "id": "b5791a44-0c25-4499-905f-5f922ef148f2",
   "metadata": {},
   "outputs": [],
   "source": [
    "import math"
   ]
  },
  {
   "cell_type": "code",
   "execution_count": 3,
   "id": "3203acc4-f742-4140-89b3-8ce685ac4801",
   "metadata": {},
   "outputs": [
    {
     "data": {
      "text/plain": [
       "6"
      ]
     },
     "execution_count": 3,
     "metadata": {},
     "output_type": "execute_result"
    }
   ],
   "source": [
    "math.factorial(3)"
   ]
  },
  {
   "cell_type": "code",
   "execution_count": null,
   "id": "0faa2186-ba13-4c76-ad3e-08be7c70791d",
   "metadata": {},
   "outputs": [],
   "source": []
  },
  {
   "cell_type": "markdown",
   "id": "d14ae170-3ad0-422d-9ac4-26f180b60d1c",
   "metadata": {},
   "source": [
    "## pandas"
   ]
  },
  {
   "cell_type": "code",
   "execution_count": 6,
   "id": "73cc31ea-9578-491b-b258-50f758b2b680",
   "metadata": {},
   "outputs": [],
   "source": [
    "import pandas as pd"
   ]
  },
  {
   "cell_type": "code",
   "execution_count": 7,
   "id": "e636d582-1d1e-4a70-9403-662326caddef",
   "metadata": {},
   "outputs": [],
   "source": [
    "# Step 1 - Define our fake data with a dictionary\n",
    "forecast_dict = {\n",
    "    'temperature': [25, 20, 27, 31], \n",
    "    'humidity': [60, 65, 62, 80],\n",
    "    'wind_speed': [10, 9, 10, 6]\n",
    "}"
   ]
  },
  {
   "cell_type": "code",
   "execution_count": 8,
   "id": "7cd7077e-794c-4436-9d0c-e022b8ff45a0",
   "metadata": {},
   "outputs": [],
   "source": [
    "# Step 2 - use `pd.DataFrame()` to convert our dictionary into a dataframe\n",
    "# Assign it to a variable called `forecast`\n",
    "forecast = pd.DataFrame(forecast_dict)"
   ]
  },
  {
   "cell_type": "code",
   "execution_count": 9,
   "id": "058b5926-b88e-4244-aefc-210353b81696",
   "metadata": {},
   "outputs": [
    {
     "data": {
      "text/html": [
       "<div>\n",
       "<style scoped>\n",
       "    .dataframe tbody tr th:only-of-type {\n",
       "        vertical-align: middle;\n",
       "    }\n",
       "\n",
       "    .dataframe tbody tr th {\n",
       "        vertical-align: top;\n",
       "    }\n",
       "\n",
       "    .dataframe thead th {\n",
       "        text-align: right;\n",
       "    }\n",
       "</style>\n",
       "<table border=\"1\" class=\"dataframe\">\n",
       "  <thead>\n",
       "    <tr style=\"text-align: right;\">\n",
       "      <th></th>\n",
       "      <th>temperature</th>\n",
       "      <th>humidity</th>\n",
       "      <th>wind_speed</th>\n",
       "    </tr>\n",
       "  </thead>\n",
       "  <tbody>\n",
       "    <tr>\n",
       "      <th>0</th>\n",
       "      <td>25</td>\n",
       "      <td>60</td>\n",
       "      <td>10</td>\n",
       "    </tr>\n",
       "    <tr>\n",
       "      <th>1</th>\n",
       "      <td>20</td>\n",
       "      <td>65</td>\n",
       "      <td>9</td>\n",
       "    </tr>\n",
       "    <tr>\n",
       "      <th>2</th>\n",
       "      <td>27</td>\n",
       "      <td>62</td>\n",
       "      <td>10</td>\n",
       "    </tr>\n",
       "    <tr>\n",
       "      <th>3</th>\n",
       "      <td>31</td>\n",
       "      <td>80</td>\n",
       "      <td>6</td>\n",
       "    </tr>\n",
       "  </tbody>\n",
       "</table>\n",
       "</div>"
      ],
      "text/plain": [
       "   temperature  humidity  wind_speed\n",
       "0           25        60          10\n",
       "1           20        65           9\n",
       "2           27        62          10\n",
       "3           31        80           6"
      ]
     },
     "execution_count": 9,
     "metadata": {},
     "output_type": "execute_result"
    }
   ],
   "source": [
    "# View the dataframe\n",
    "forecast"
   ]
  },
  {
   "cell_type": "code",
   "execution_count": null,
   "id": "1896564e-c402-40c8-aa53-e0a504359cd3",
   "metadata": {},
   "outputs": [],
   "source": []
  },
  {
   "cell_type": "markdown",
   "id": "0281f189-c76e-4a80-a930-418afbf88c76",
   "metadata": {},
   "source": [
    "Check your understanding label parts of data frame box"
   ]
  },
  {
   "cell_type": "markdown",
   "id": "f0b08580-b993-4512-a9d6-d530e4e78bdd",
   "metadata": {},
   "source": [
    "## Accessing values in a DataFrame"
   ]
  },
  {
   "cell_type": "markdown",
   "id": "039e0410-fdef-4288-956d-283cefc8bf55",
   "metadata": {},
   "source": [
    "### Get one column"
   ]
  },
  {
   "cell_type": "code",
   "execution_count": 10,
   "id": "c5fb0f1a-54c9-4a78-8180-87ef1bf32798",
   "metadata": {},
   "outputs": [
    {
     "data": {
      "text/plain": [
       "0    60\n",
       "1    65\n",
       "2    62\n",
       "3    80\n",
       "Name: humidity, dtype: int64"
      ]
     },
     "execution_count": 10,
     "metadata": {},
     "output_type": "execute_result"
    }
   ],
   "source": [
    "forecast['humidity']"
   ]
  },
  {
   "cell_type": "code",
   "execution_count": null,
   "id": "eec5f0e6-ad26-4803-b566-7ba6420b178f",
   "metadata": {},
   "outputs": [],
   "source": []
  },
  {
   "cell_type": "markdown",
   "id": "23d45838-830b-4daf-8ce1-f1f40d7d4327",
   "metadata": {},
   "source": [
    "### Get one row"
   ]
  },
  {
   "cell_type": "code",
   "execution_count": 11,
   "id": "88c73799-95b4-4dff-ae7b-2321b0cd0c8b",
   "metadata": {},
   "outputs": [
    {
     "data": {
      "text/plain": [
       "temperature    20\n",
       "humidity       65\n",
       "wind_speed      9\n",
       "Name: 1, dtype: int64"
      ]
     },
     "execution_count": 11,
     "metadata": {},
     "output_type": "execute_result"
    }
   ],
   "source": [
    "forecast.iloc[1]"
   ]
  },
  {
   "cell_type": "code",
   "execution_count": null,
   "id": "318faa6f-8130-42b3-8a08-551515d612a5",
   "metadata": {},
   "outputs": [],
   "source": []
  },
  {
   "cell_type": "code",
   "execution_count": null,
   "id": "3ca3a134-0b6e-42db-9ca4-a56df12863f1",
   "metadata": {},
   "outputs": [],
   "source": []
  },
  {
   "cell_type": "code",
   "execution_count": null,
   "id": "d6e748ae-8cb0-41ad-ac12-cfbab5093ebf",
   "metadata": {},
   "outputs": [],
   "source": []
  },
  {
   "cell_type": "markdown",
   "id": "4f95ade4-e7c8-4c7b-bbce-3eb7b356e85f",
   "metadata": {},
   "source": [
    "### Get multiple columns or rows"
   ]
  },
  {
   "cell_type": "code",
   "execution_count": 12,
   "id": "e3cda024-b60c-44f3-be78-79a7ca6086ac",
   "metadata": {},
   "outputs": [
    {
     "data": {
      "text/html": [
       "<div>\n",
       "<style scoped>\n",
       "    .dataframe tbody tr th:only-of-type {\n",
       "        vertical-align: middle;\n",
       "    }\n",
       "\n",
       "    .dataframe tbody tr th {\n",
       "        vertical-align: top;\n",
       "    }\n",
       "\n",
       "    .dataframe thead th {\n",
       "        text-align: right;\n",
       "    }\n",
       "</style>\n",
       "<table border=\"1\" class=\"dataframe\">\n",
       "  <thead>\n",
       "    <tr style=\"text-align: right;\">\n",
       "      <th></th>\n",
       "      <th>temperature</th>\n",
       "      <th>humidity</th>\n",
       "      <th>wind_speed</th>\n",
       "    </tr>\n",
       "  </thead>\n",
       "  <tbody>\n",
       "    <tr>\n",
       "      <th>0</th>\n",
       "      <td>25</td>\n",
       "      <td>60</td>\n",
       "      <td>10</td>\n",
       "    </tr>\n",
       "    <tr>\n",
       "      <th>1</th>\n",
       "      <td>20</td>\n",
       "      <td>65</td>\n",
       "      <td>9</td>\n",
       "    </tr>\n",
       "    <tr>\n",
       "      <th>2</th>\n",
       "      <td>27</td>\n",
       "      <td>62</td>\n",
       "      <td>10</td>\n",
       "    </tr>\n",
       "    <tr>\n",
       "      <th>3</th>\n",
       "      <td>31</td>\n",
       "      <td>80</td>\n",
       "      <td>6</td>\n",
       "    </tr>\n",
       "  </tbody>\n",
       "</table>\n",
       "</div>"
      ],
      "text/plain": [
       "   temperature  humidity  wind_speed\n",
       "0           25        60          10\n",
       "1           20        65           9\n",
       "2           27        62          10\n",
       "3           31        80           6"
      ]
     },
     "execution_count": 12,
     "metadata": {},
     "output_type": "execute_result"
    }
   ],
   "source": [
    "forecast"
   ]
  },
  {
   "cell_type": "code",
   "execution_count": 13,
   "id": "f8e42264-d29f-44db-b6ee-3d94f7ed88fc",
   "metadata": {},
   "outputs": [
    {
     "data": {
      "text/html": [
       "<div>\n",
       "<style scoped>\n",
       "    .dataframe tbody tr th:only-of-type {\n",
       "        vertical-align: middle;\n",
       "    }\n",
       "\n",
       "    .dataframe tbody tr th {\n",
       "        vertical-align: top;\n",
       "    }\n",
       "\n",
       "    .dataframe thead th {\n",
       "        text-align: right;\n",
       "    }\n",
       "</style>\n",
       "<table border=\"1\" class=\"dataframe\">\n",
       "  <thead>\n",
       "    <tr style=\"text-align: right;\">\n",
       "      <th></th>\n",
       "      <th>temperature</th>\n",
       "      <th>wind_speed</th>\n",
       "    </tr>\n",
       "  </thead>\n",
       "  <tbody>\n",
       "    <tr>\n",
       "      <th>0</th>\n",
       "      <td>25</td>\n",
       "      <td>10</td>\n",
       "    </tr>\n",
       "    <tr>\n",
       "      <th>1</th>\n",
       "      <td>20</td>\n",
       "      <td>9</td>\n",
       "    </tr>\n",
       "    <tr>\n",
       "      <th>2</th>\n",
       "      <td>27</td>\n",
       "      <td>10</td>\n",
       "    </tr>\n",
       "    <tr>\n",
       "      <th>3</th>\n",
       "      <td>31</td>\n",
       "      <td>6</td>\n",
       "    </tr>\n",
       "  </tbody>\n",
       "</table>\n",
       "</div>"
      ],
      "text/plain": [
       "   temperature  wind_speed\n",
       "0           25          10\n",
       "1           20           9\n",
       "2           27          10\n",
       "3           31           6"
      ]
     },
     "execution_count": 13,
     "metadata": {},
     "output_type": "execute_result"
    }
   ],
   "source": [
    "forecast[['temperature', 'wind_speed']]"
   ]
  },
  {
   "cell_type": "markdown",
   "id": "409e7491-3c4f-48c0-832c-2c1e39f6dac2",
   "metadata": {},
   "source": [
    "Notice the similarity in syntax to a list!"
   ]
  },
  {
   "cell_type": "code",
   "execution_count": 14,
   "id": "9db140c1-467a-4261-b704-9efb530d0b4b",
   "metadata": {},
   "outputs": [
    {
     "data": {
      "text/html": [
       "<div>\n",
       "<style scoped>\n",
       "    .dataframe tbody tr th:only-of-type {\n",
       "        vertical-align: middle;\n",
       "    }\n",
       "\n",
       "    .dataframe tbody tr th {\n",
       "        vertical-align: top;\n",
       "    }\n",
       "\n",
       "    .dataframe thead th {\n",
       "        text-align: right;\n",
       "    }\n",
       "</style>\n",
       "<table border=\"1\" class=\"dataframe\">\n",
       "  <thead>\n",
       "    <tr style=\"text-align: right;\">\n",
       "      <th></th>\n",
       "      <th>temperature</th>\n",
       "      <th>humidity</th>\n",
       "      <th>wind_speed</th>\n",
       "    </tr>\n",
       "  </thead>\n",
       "  <tbody>\n",
       "    <tr>\n",
       "      <th>1</th>\n",
       "      <td>20</td>\n",
       "      <td>65</td>\n",
       "      <td>9</td>\n",
       "    </tr>\n",
       "    <tr>\n",
       "      <th>2</th>\n",
       "      <td>27</td>\n",
       "      <td>62</td>\n",
       "      <td>10</td>\n",
       "    </tr>\n",
       "  </tbody>\n",
       "</table>\n",
       "</div>"
      ],
      "text/plain": [
       "   temperature  humidity  wind_speed\n",
       "1           20        65           9\n",
       "2           27        62          10"
      ]
     },
     "execution_count": 14,
     "metadata": {},
     "output_type": "execute_result"
    }
   ],
   "source": [
    "forecast.iloc[1:3]"
   ]
  },
  {
   "cell_type": "markdown",
   "id": "d6bac529-cb1f-4338-a80c-76f1c2d164cc",
   "metadata": {},
   "source": [
    "Numpy-like syntax still works for rows if you prefer that"
   ]
  },
  {
   "cell_type": "code",
   "execution_count": 26,
   "id": "366cd549-407d-4ed8-b1de-e68983208618",
   "metadata": {},
   "outputs": [
    {
     "data": {
      "text/html": [
       "<div>\n",
       "<style scoped>\n",
       "    .dataframe tbody tr th:only-of-type {\n",
       "        vertical-align: middle;\n",
       "    }\n",
       "\n",
       "    .dataframe tbody tr th {\n",
       "        vertical-align: top;\n",
       "    }\n",
       "\n",
       "    .dataframe thead th {\n",
       "        text-align: right;\n",
       "    }\n",
       "</style>\n",
       "<table border=\"1\" class=\"dataframe\">\n",
       "  <thead>\n",
       "    <tr style=\"text-align: right;\">\n",
       "      <th></th>\n",
       "      <th>temperature</th>\n",
       "      <th>humidity</th>\n",
       "      <th>wind_speed</th>\n",
       "    </tr>\n",
       "  </thead>\n",
       "  <tbody>\n",
       "    <tr>\n",
       "      <th>1</th>\n",
       "      <td>20</td>\n",
       "      <td>65</td>\n",
       "      <td>9</td>\n",
       "    </tr>\n",
       "    <tr>\n",
       "      <th>2</th>\n",
       "      <td>27</td>\n",
       "      <td>62</td>\n",
       "      <td>10</td>\n",
       "    </tr>\n",
       "  </tbody>\n",
       "</table>\n",
       "</div>"
      ],
      "text/plain": [
       "   temperature  humidity  wind_speed\n",
       "1           20        65           9\n",
       "2           27        62          10"
      ]
     },
     "execution_count": 26,
     "metadata": {},
     "output_type": "execute_result"
    }
   ],
   "source": [
    "forecast[1:3]"
   ]
  },
  {
   "cell_type": "markdown",
   "id": "0b4b1b5f-7444-4354-905d-bbc095184e00",
   "metadata": {},
   "source": [
    "You can use column indexes also, if you want"
   ]
  },
  {
   "cell_type": "code",
   "execution_count": 28,
   "id": "90ae1ebc-5b72-4cdc-a866-908e0bfdb065",
   "metadata": {},
   "outputs": [
    {
     "data": {
      "text/plain": [
       "9"
      ]
     },
     "execution_count": 28,
     "metadata": {},
     "output_type": "execute_result"
    }
   ],
   "source": [
    "forecast.iloc[1, 2]"
   ]
  },
  {
   "cell_type": "markdown",
   "id": "3213f94c-2a1f-4139-b7cf-be46e240849c",
   "metadata": {},
   "source": [
    "## Get column names"
   ]
  },
  {
   "cell_type": "code",
   "execution_count": 20,
   "id": "3d448445-5e0a-42ab-8fc0-b2697277f0ed",
   "metadata": {},
   "outputs": [
    {
     "data": {
      "text/plain": [
       "Index(['temperature', 'humidity', 'wind_speed'], dtype='object')"
      ]
     },
     "execution_count": 20,
     "metadata": {},
     "output_type": "execute_result"
    }
   ],
   "source": [
    "forecast.columns"
   ]
  },
  {
   "cell_type": "code",
   "execution_count": 22,
   "id": "375edd39-28b6-4bf5-b2f0-ff0fac5eecc4",
   "metadata": {},
   "outputs": [
    {
     "data": {
      "text/plain": [
       "temperature    int64\n",
       "humidity       int64\n",
       "wind_speed     int64\n",
       "dtype: object"
      ]
     },
     "execution_count": 22,
     "metadata": {},
     "output_type": "execute_result"
    }
   ],
   "source": [
    "forecast.dtypes"
   ]
  },
  {
   "cell_type": "code",
   "execution_count": null,
   "id": "d0aad33d-ea9f-4fd0-9fee-fac79f382f5e",
   "metadata": {},
   "outputs": [],
   "source": []
  },
  {
   "cell_type": "code",
   "execution_count": null,
   "id": "36293ef8-5cdd-4154-af1c-8bdd71a4d7fc",
   "metadata": {},
   "outputs": [],
   "source": []
  },
  {
   "cell_type": "markdown",
   "id": "43df8e6e-9f1e-4e24-9861-17442d589a9a",
   "metadata": {},
   "source": [
    ":::{admonition} Vocabulary\n",
    ":class: tip\n",
    "**Property** or **Attribute:**  Information attached to a data structure that describes it (Ex. the size of an array). Usually accessed with dot notation (`my_dataarray.my_property`)\n",
    ":::"
   ]
  },
  {
   "cell_type": "markdown",
   "id": "729a62d6-7173-4148-8ee3-709fe8cbe2a3",
   "metadata": {},
   "source": [
    "## pandas DataFrame Methods"
   ]
  },
  {
   "cell_type": "code",
   "execution_count": 29,
   "id": "54cf101c-f9f2-4bd2-a96d-67ceac00b496",
   "metadata": {},
   "outputs": [
    {
     "data": {
      "text/plain": [
       "temperature    25.75\n",
       "humidity       66.75\n",
       "wind_speed      8.75\n",
       "dtype: float64"
      ]
     },
     "execution_count": 29,
     "metadata": {},
     "output_type": "execute_result"
    }
   ],
   "source": [
    "forecast.mean()"
   ]
  },
  {
   "cell_type": "markdown",
   "id": "0f7b545b-a54c-4108-9d9a-1dcbb401da12",
   "metadata": {},
   "source": [
    "Notice its the same `object.method()` syntax as we used for a list!"
   ]
  },
  {
   "cell_type": "code",
   "execution_count": null,
   "id": "63c83a60-88f8-4f97-af18-d1964231fd13",
   "metadata": {},
   "outputs": [],
   "source": []
  },
  {
   "cell_type": "code",
   "execution_count": null,
   "id": "17bec5bd-a7ad-4b83-9b0b-b7f6d1f5b1a4",
   "metadata": {},
   "outputs": [],
   "source": []
  },
  {
   "cell_type": "markdown",
   "id": "0038fdae-d102-4165-927d-9923ce51cb4a",
   "metadata": {},
   "source": [
    "### 🌟 A note about assigning dataframes to variables"
   ]
  },
  {
   "cell_type": "code",
   "execution_count": 30,
   "id": "473e89ec-0f29-4135-8b28-ee2c68d32b29",
   "metadata": {},
   "outputs": [
    {
     "data": {
      "text/plain": [
       "temperature    25.75\n",
       "humidity       66.75\n",
       "wind_speed      8.75\n",
       "dtype: float64"
      ]
     },
     "execution_count": 30,
     "metadata": {},
     "output_type": "execute_result"
    }
   ],
   "source": [
    "forecast.mean()"
   ]
  },
  {
   "cell_type": "code",
   "execution_count": 25,
   "id": "5759d0d9-4982-4d15-ba4e-fa709c529f78",
   "metadata": {},
   "outputs": [
    {
     "data": {
      "text/html": [
       "<div>\n",
       "<style scoped>\n",
       "    .dataframe tbody tr th:only-of-type {\n",
       "        vertical-align: middle;\n",
       "    }\n",
       "\n",
       "    .dataframe tbody tr th {\n",
       "        vertical-align: top;\n",
       "    }\n",
       "\n",
       "    .dataframe thead th {\n",
       "        text-align: right;\n",
       "    }\n",
       "</style>\n",
       "<table border=\"1\" class=\"dataframe\">\n",
       "  <thead>\n",
       "    <tr style=\"text-align: right;\">\n",
       "      <th></th>\n",
       "      <th>temperature</th>\n",
       "      <th>humidity</th>\n",
       "      <th>wind_speed</th>\n",
       "    </tr>\n",
       "  </thead>\n",
       "  <tbody>\n",
       "    <tr>\n",
       "      <th>0</th>\n",
       "      <td>25</td>\n",
       "      <td>60</td>\n",
       "      <td>10</td>\n",
       "    </tr>\n",
       "    <tr>\n",
       "      <th>1</th>\n",
       "      <td>20</td>\n",
       "      <td>65</td>\n",
       "      <td>9</td>\n",
       "    </tr>\n",
       "    <tr>\n",
       "      <th>2</th>\n",
       "      <td>27</td>\n",
       "      <td>62</td>\n",
       "      <td>10</td>\n",
       "    </tr>\n",
       "    <tr>\n",
       "      <th>3</th>\n",
       "      <td>31</td>\n",
       "      <td>80</td>\n",
       "      <td>6</td>\n",
       "    </tr>\n",
       "  </tbody>\n",
       "</table>\n",
       "</div>"
      ],
      "text/plain": [
       "   temperature  humidity  wind_speed\n",
       "0           25        60          10\n",
       "1           20        65           9\n",
       "2           27        62          10\n",
       "3           31        80           6"
      ]
     },
     "execution_count": 25,
     "metadata": {},
     "output_type": "execute_result"
    }
   ],
   "source": [
    "# still the same\n",
    "forecast"
   ]
  },
  {
   "cell_type": "code",
   "execution_count": null,
   "id": "b06e0f3c-a6aa-4ae5-84d3-c86700c8bab5",
   "metadata": {},
   "outputs": [],
   "source": [
    "forecast = forecast.mean()"
   ]
  },
  {
   "cell_type": "code",
   "execution_count": null,
   "id": "a523c388-ebdc-412e-b610-b1924fc1326d",
   "metadata": {},
   "outputs": [],
   "source": []
  },
  {
   "cell_type": "markdown",
   "id": "60b53149-a206-4715-ad1b-8bb83652ff84",
   "metadata": {},
   "source": [
    "## Practice Question\n",
    "\n",
    "Using the precipitation dataframe below create a new dataframe that shows the precipitation totals for each city.\n",
    "\n",
    "Hint -- link to pandas aggregation page"
   ]
  },
  {
   "cell_type": "code",
   "execution_count": 31,
   "id": "5f0a6521-d9d8-4c35-b04a-6988743a853f",
   "metadata": {},
   "outputs": [],
   "source": [
    "precip_dict = {\n",
    "    'Chennai': [5, 6, 2, 0, 1], \n",
    "    'Mumbai': [5, 8, 3, 2, 1], \n",
    "    'Jaipur': [1, 2, 0, 0, 1], \n",
    "    'Patna': [2, 3, 1, 1, 0]\n",
    "}"
   ]
  },
  {
   "cell_type": "code",
   "execution_count": 38,
   "id": "611efe36-98c9-4e57-9846-27bfdcc0f8b5",
   "metadata": {},
   "outputs": [],
   "source": [
    "precipitation_mm = pd.DataFrame(\n",
    "    precip_dict, \n",
    "    index=['2024-05-01', '2024-05-02', '2024-05-03', '2024-05-04','2024-05-05']\n",
    ")"
   ]
  },
  {
   "cell_type": "code",
   "execution_count": 39,
   "id": "f7757a09-5abf-4d1e-9f12-815a9cc2e344",
   "metadata": {},
   "outputs": [
    {
     "data": {
      "text/html": [
       "<div>\n",
       "<style scoped>\n",
       "    .dataframe tbody tr th:only-of-type {\n",
       "        vertical-align: middle;\n",
       "    }\n",
       "\n",
       "    .dataframe tbody tr th {\n",
       "        vertical-align: top;\n",
       "    }\n",
       "\n",
       "    .dataframe thead th {\n",
       "        text-align: right;\n",
       "    }\n",
       "</style>\n",
       "<table border=\"1\" class=\"dataframe\">\n",
       "  <thead>\n",
       "    <tr style=\"text-align: right;\">\n",
       "      <th></th>\n",
       "      <th>Chennai</th>\n",
       "      <th>Mumbai</th>\n",
       "      <th>Jaipur</th>\n",
       "      <th>Patna</th>\n",
       "    </tr>\n",
       "  </thead>\n",
       "  <tbody>\n",
       "    <tr>\n",
       "      <th>2024-05-01</th>\n",
       "      <td>5</td>\n",
       "      <td>5</td>\n",
       "      <td>1</td>\n",
       "      <td>2</td>\n",
       "    </tr>\n",
       "    <tr>\n",
       "      <th>2024-05-02</th>\n",
       "      <td>6</td>\n",
       "      <td>8</td>\n",
       "      <td>2</td>\n",
       "      <td>3</td>\n",
       "    </tr>\n",
       "    <tr>\n",
       "      <th>2024-05-03</th>\n",
       "      <td>2</td>\n",
       "      <td>3</td>\n",
       "      <td>0</td>\n",
       "      <td>1</td>\n",
       "    </tr>\n",
       "    <tr>\n",
       "      <th>2024-05-04</th>\n",
       "      <td>0</td>\n",
       "      <td>2</td>\n",
       "      <td>0</td>\n",
       "      <td>1</td>\n",
       "    </tr>\n",
       "    <tr>\n",
       "      <th>2024-05-05</th>\n",
       "      <td>1</td>\n",
       "      <td>1</td>\n",
       "      <td>1</td>\n",
       "      <td>0</td>\n",
       "    </tr>\n",
       "  </tbody>\n",
       "</table>\n",
       "</div>"
      ],
      "text/plain": [
       "            Chennai  Mumbai  Jaipur  Patna\n",
       "2024-05-01        5       5       1      2\n",
       "2024-05-02        6       8       2      3\n",
       "2024-05-03        2       3       0      1\n",
       "2024-05-04        0       2       0      1\n",
       "2024-05-05        1       1       1      0"
      ]
     },
     "execution_count": 39,
     "metadata": {},
     "output_type": "execute_result"
    }
   ],
   "source": [
    "precipitation_mm"
   ]
  },
  {
   "cell_type": "code",
   "execution_count": null,
   "id": "d170b352-dd95-4dcd-9595-c6c2345afb2e",
   "metadata": {},
   "outputs": [],
   "source": []
  },
  {
   "cell_type": "markdown",
   "id": "1604ad1a-6bab-4979-9756-0c5c806dbbe1",
   "metadata": {},
   "source": [
    "### Bonus Question\n",
    "\n",
    "pandas practice question 3 (with fake data -- mediterranean air quality?)"
   ]
  },
  {
   "cell_type": "code",
   "execution_count": null,
   "id": "ac276868-642f-48b9-b186-8bbb0a459a46",
   "metadata": {},
   "outputs": [],
   "source": []
  },
  {
   "cell_type": "markdown",
   "id": "dd475673-96ed-4d8d-8e43-67c63d0ab4d4",
   "metadata": {},
   "source": [
    "## Filepaths"
   ]
  },
  {
   "cell_type": "code",
   "execution_count": null,
   "id": "1cc500cd-5e34-46fa-ab34-1382a636f8e7",
   "metadata": {},
   "outputs": [],
   "source": []
  },
  {
   "cell_type": "code",
   "execution_count": null,
   "id": "428f8c04-91b5-4c2e-be36-9313a9fc609b",
   "metadata": {},
   "outputs": [],
   "source": []
  },
  {
   "cell_type": "code",
   "execution_count": null,
   "id": "a37ac8ab-6092-49fb-9a36-19b191ab1e85",
   "metadata": {},
   "outputs": [],
   "source": [
    "pd.set_option('display.max_rows', 10)\n",
    "pd.set_option('display.max_columns', 6)"
   ]
  },
  {
   "cell_type": "code",
   "execution_count": null,
   "id": "b02ab956-baa9-4680-89ac-46653b25d5b6",
   "metadata": {},
   "outputs": [],
   "source": []
  },
  {
   "cell_type": "code",
   "execution_count": null,
   "id": "fcf21e06-14eb-46f1-830a-df60e486e7ed",
   "metadata": {},
   "outputs": [],
   "source": []
  },
  {
   "cell_type": "code",
   "execution_count": null,
   "id": "a0b0303b-7eee-465a-be73-ccfeeb1b701a",
   "metadata": {},
   "outputs": [],
   "source": []
  },
  {
   "cell_type": "code",
   "execution_count": null,
   "id": "79b8f108-e292-4553-b87b-2375f07da28a",
   "metadata": {},
   "outputs": [],
   "source": []
  },
  {
   "cell_type": "code",
   "execution_count": null,
   "id": "d6db229e-0520-4bb5-be1c-9e9f3c0f3c9e",
   "metadata": {},
   "outputs": [],
   "source": []
  },
  {
   "cell_type": "code",
   "execution_count": null,
   "id": "cdde9863-278c-4961-884a-6a375c832d94",
   "metadata": {},
   "outputs": [],
   "source": []
  }
 ],
 "metadata": {
  "kernelspec": {
   "display_name": "Python 3 (ipykernel)",
   "language": "python",
   "name": "python3"
  },
  "language_info": {
   "codemirror_mode": {
    "name": "ipython",
    "version": 3
   },
   "file_extension": ".py",
   "mimetype": "text/x-python",
   "name": "python",
   "nbconvert_exporter": "python",
   "pygments_lexer": "ipython3",
   "version": "3.11.11"
  }
 },
 "nbformat": 4,
 "nbformat_minor": 5
}
