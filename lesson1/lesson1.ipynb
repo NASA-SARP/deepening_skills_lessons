{
 "cells": [
  {
   "cell_type": "markdown",
   "id": "6d6dac52-fa40-4589-8e7b-e93bc5339552",
   "metadata": {},
   "source": [
    "# Lesson 1: Data types and Data structures\n",
    "\n",
    "The website lessons followed in this lesson are:\n",
    "- [Lesson 1.1](https://nasa-sarp.github.io/sarp_lessons/sarp_lessons/1_python_progression/1-general_python/1-1_variables_types_ifstatements.html): Variables and Data Types\n",
    "- [Lesson 1.2](https://nasa-sarp.github.io/sarp_lessons/sarp_lessons/1_python_progression/1-general_python/1-2_lists_dictionaries.html): Lists and Dictionaries"
   ]
  },
  {
   "cell_type": "markdown",
   "id": "5859bd92-5970-42c2-b7fe-48d1405eed1e",
   "metadata": {},
   "source": [
    "# Part 1 -- Data Types"
   ]
  },
  {
   "cell_type": "markdown",
   "id": "9e2357c1-3ce9-4823-aff1-95ef286987d4",
   "metadata": {},
   "source": [
    "## Communicating with the computer"
   ]
  },
  {
   "cell_type": "code",
   "execution_count": 1,
   "id": "eb096133-2c11-4aa6-a214-ad7d0ae2fc01",
   "metadata": {},
   "outputs": [
    {
     "name": "stdout",
     "output_type": "stream",
     "text": [
      "helo, world\n"
     ]
    }
   ],
   "source": [
    "print('helo, world')"
   ]
  },
  {
   "cell_type": "code",
   "execution_count": 1,
   "id": "afc5129b-ff5a-44a6-9ea8-eb268dc1e316",
   "metadata": {},
   "outputs": [
    {
     "name": "stdout",
     "output_type": "stream",
     "text": [
      "hola, mundo\n"
     ]
    }
   ],
   "source": [
    "print(\"hola, mundo\")"
   ]
  },
  {
   "cell_type": "code",
   "execution_count": 2,
   "id": "02fb6cb9-3b45-4f3f-b6ee-4d401575ae7d",
   "metadata": {},
   "outputs": [
    {
     "name": "stdout",
     "output_type": "stream",
     "text": [
      "5.2432\n"
     ]
    }
   ],
   "source": [
    "print(5.2432)"
   ]
  },
  {
   "cell_type": "code",
   "execution_count": 3,
   "id": "82297e59-d45c-47e6-bfea-017e3a0a44b1",
   "metadata": {},
   "outputs": [
    {
     "name": "stdout",
     "output_type": "stream",
     "text": [
      "the answer is 2.3423\n"
     ]
    }
   ],
   "source": [
    "print('the answer is', 2.3423)"
   ]
  },
  {
   "cell_type": "markdown",
   "id": "a3a5fa04-4f18-4912-9bf6-27d082674eba",
   "metadata": {},
   "source": [
    ":::{admonition} Vocabulary\n",
    ":class: tip\n",
    "**Syntax:** The words and characters of a programming language which a computer can interpret. The computer interprets the syntax to do an action for the programmer.\n",
    ":::"
   ]
  },
  {
   "cell_type": "markdown",
   "id": "a551ded1-e83f-43fa-9558-c5934bcd4a95",
   "metadata": {},
   "source": [
    "## Assigning Variables"
   ]
  },
  {
   "cell_type": "code",
   "execution_count": 4,
   "id": "87d0d403-01ab-4422-84e8-7b27a056278a",
   "metadata": {},
   "outputs": [],
   "source": [
    "x = 7"
   ]
  },
  {
   "cell_type": "code",
   "execution_count": 5,
   "id": "81df2a9e-4543-4061-a9d6-df7e84772f46",
   "metadata": {},
   "outputs": [],
   "source": [
    "y = 12"
   ]
  },
  {
   "cell_type": "code",
   "execution_count": 6,
   "id": "45769278-438d-445f-b119-da57837db6fe",
   "metadata": {},
   "outputs": [
    {
     "data": {
      "text/plain": [
       "19"
      ]
     },
     "execution_count": 6,
     "metadata": {},
     "output_type": "execute_result"
    }
   ],
   "source": [
    "x + y"
   ]
  },
  {
   "cell_type": "code",
   "execution_count": null,
   "id": "96e2e9bc-340c-4a68-a25f-c28c346fb66d",
   "metadata": {},
   "outputs": [],
   "source": [
    "b = 'ocean'"
   ]
  },
  {
   "cell_type": "code",
   "execution_count": null,
   "id": "05e3be33-1a4d-4953-9110-e8a5e8f64a47",
   "metadata": {},
   "outputs": [],
   "source": [
    "b = \"ocean\"  # Single or double quotes both work for text (strings) in Python"
   ]
  },
  {
   "cell_type": "markdown",
   "id": "3590032e-6407-4082-81fa-7953ebc647f7",
   "metadata": {},
   "source": [
    "What happens when I ask to print a variable that doesn't exist?"
   ]
  },
  {
   "cell_type": "code",
   "execution_count": 27,
   "id": "907d5e7c-be89-4062-9092-2740d0f0deee",
   "metadata": {},
   "outputs": [
    {
     "ename": "NameError",
     "evalue": "name 'day' is not defined",
     "output_type": "error",
     "traceback": [
      "\u001b[0;31m---------------------------------------------------------------------------\u001b[0m",
      "\u001b[0;31mNameError\u001b[0m                                 Traceback (most recent call last)",
      "Cell \u001b[0;32mIn[27], line 1\u001b[0m\n\u001b[0;32m----> 1\u001b[0m \u001b[43mday\u001b[49m\n",
      "\u001b[0;31mNameError\u001b[0m: name 'day' is not defined"
     ]
    }
   ],
   "source": [
    "day"
   ]
  },
  {
   "cell_type": "markdown",
   "id": "92ae2332-b069-4c31-9840-5ed9e63d4cc3",
   "metadata": {},
   "source": [
    "### Order of Execution"
   ]
  },
  {
   "cell_type": "code",
   "execution_count": 7,
   "id": "725395c7-97b9-4a31-b5b3-f33ff709d075",
   "metadata": {},
   "outputs": [
    {
     "name": "stdout",
     "output_type": "stream",
     "text": [
      "10\n"
     ]
    }
   ],
   "source": [
    "x = 6\n",
    "x = 7\n",
    "x = 10\n",
    "print(x)"
   ]
  },
  {
   "cell_type": "code",
   "execution_count": 8,
   "id": "dabdcfac-c956-4473-b5d4-6698b7c750a4",
   "metadata": {},
   "outputs": [
    {
     "name": "stdout",
     "output_type": "stream",
     "text": [
      "plane\n"
     ]
    }
   ],
   "source": [
    "mode = 'boat'\n",
    "mode = 'plane'\n",
    "print(mode)"
   ]
  },
  {
   "cell_type": "markdown",
   "id": "5441d44f-51de-4466-bfcc-f71c06107b0e",
   "metadata": {},
   "source": [
    ":::{admonition} 💡 Key Ideas\n",
    ":class: note\n",
    "\n",
    "1. Assiging a variable means giving a name to a value (a number, a piece of text, etc.) that you care about.  \n",
    "2. You can change the value of your variable.  Code executes from top to bottom so you need to follow along to keep track of changes to your variable.\n",
    "\n",
    ":::"
   ]
  },
  {
   "cell_type": "markdown",
   "id": "830fdb37-121d-46db-b954-0b17f154e5da",
   "metadata": {},
   "source": [
    ":::{admonition} 📝 Check your understanding\n",
    ":class: tip\n",
    "\n",
    "Read the block of code below:\n",
    "```\n",
    "x = 7\n",
    "x = 9\n",
    "y = x + 2\n",
    "print('y is ', y, ' and x is ', x)\n",
    "```\n",
    "\n",
    "Student A says that after executing this block of code y is equal to 9. Student B says that x is equal to 9. Who is correct?\n",
    "\n",
    "a) Student A only\n",
    "\n",
    "b) Student B only\n",
    "\n",
    "c) both Students A and B\n",
    "\n",
    "d) neither Student A nor B\n",
    ":::"
   ]
  },
  {
   "cell_type": "code",
   "execution_count": null,
   "id": "9c76da61-9852-4217-b111-d5eef44bc811",
   "metadata": {},
   "outputs": [],
   "source": []
  },
  {
   "cell_type": "markdown",
   "id": "0bf1886f-432f-476e-bad5-ad555839837c",
   "metadata": {},
   "source": [
    "## Data Types"
   ]
  },
  {
   "cell_type": "markdown",
   "id": "8a3444d3-83c8-4a96-a5f3-bfdd54c21974",
   "metadata": {},
   "source": [
    ":::{admonition} 💡 Key Idea\n",
    ":class: note\n",
    "\n",
    "**Every** piece of data in Python (and in coding) has a **type**!\n",
    "\n",
    ":::"
   ]
  },
  {
   "cell_type": "markdown",
   "id": "e1ca11d0-c3e3-447b-824e-0905d71cac89",
   "metadata": {},
   "source": [
    ":::{admonition} Vocabulary\n",
    ":class: tip\n",
    "**Data type:** a way to categorize data that tells the computer something about how we are going to be using the data\n",
    "\n",
    ":::"
   ]
  },
  {
   "cell_type": "code",
   "execution_count": 12,
   "id": "7d7fa415-6c7a-4dd6-a199-13e8f079e4e0",
   "metadata": {},
   "outputs": [],
   "source": [
    "a = 2"
   ]
  },
  {
   "cell_type": "code",
   "execution_count": 13,
   "id": "0135dffb-864f-4949-bf14-ae0f62ff6861",
   "metadata": {},
   "outputs": [],
   "source": [
    "b = 'oranges'"
   ]
  },
  {
   "cell_type": "code",
   "execution_count": 14,
   "id": "cd84885b-b34c-4c57-8711-9cdd4f20d070",
   "metadata": {},
   "outputs": [],
   "source": [
    "c = 4.5555"
   ]
  },
  {
   "cell_type": "code",
   "execution_count": 15,
   "id": "2ead0f41-7b26-4403-b245-42bdfc8352a9",
   "metadata": {},
   "outputs": [],
   "source": [
    "d = True"
   ]
  },
  {
   "cell_type": "markdown",
   "id": "9dab1fff-ec8e-43cc-ba95-8d877e82d71d",
   "metadata": {},
   "source": [
    "| Python Data Type | Plain English  | Example |\n",
    "|:---|:---:|:---:|\n",
    "| `string` (`str`)| text | 'Tuesday' or \"Tuesday\" |\n",
    "|`integer` (`int`)|  whole number  | 67 |\n",
    "|`float` (`float`)| decimal number | 2.9 |\n",
    "|  `boolean` (`bool`)| yes/no  | True or False |"
   ]
  },
  {
   "cell_type": "markdown",
   "id": "530b337a-aa72-4e62-84d3-f4555905b7a1",
   "metadata": {},
   "source": [
    "### Boolean Values"
   ]
  },
  {
   "cell_type": "code",
   "execution_count": 20,
   "id": "4a36cc97-687b-4a8a-ae06-80a7b5a68caa",
   "metadata": {},
   "outputs": [
    {
     "data": {
      "text/plain": [
       "int"
      ]
     },
     "execution_count": 20,
     "metadata": {},
     "output_type": "execute_result"
    }
   ],
   "source": [
    "type(a)"
   ]
  },
  {
   "cell_type": "code",
   "execution_count": 17,
   "id": "03305201-8364-485b-8dfe-4d30f2b5f78c",
   "metadata": {},
   "outputs": [],
   "source": [
    "d = 'True'"
   ]
  },
  {
   "cell_type": "code",
   "execution_count": 21,
   "id": "e37f6601-9f11-44f2-9d03-9574ae457a3f",
   "metadata": {},
   "outputs": [
    {
     "data": {
      "text/plain": [
       "str"
      ]
     },
     "execution_count": 21,
     "metadata": {},
     "output_type": "execute_result"
    }
   ],
   "source": [
    "type(d)"
   ]
  },
  {
   "cell_type": "code",
   "execution_count": 16,
   "id": "d93b42c6-a4de-4524-b3af-b8bdc9a39822",
   "metadata": {},
   "outputs": [
    {
     "ename": "NameError",
     "evalue": "name 'true' is not defined",
     "output_type": "error",
     "traceback": [
      "\u001b[0;31m---------------------------------------------------------------------------\u001b[0m",
      "\u001b[0;31mNameError\u001b[0m                                 Traceback (most recent call last)",
      "Cell \u001b[0;32mIn[16], line 1\u001b[0m\n\u001b[0;32m----> 1\u001b[0m d \u001b[38;5;241m=\u001b[39m \u001b[43mtrue\u001b[49m\n",
      "\u001b[0;31mNameError\u001b[0m: name 'true' is not defined"
     ]
    }
   ],
   "source": [
    "d = true"
   ]
  },
  {
   "cell_type": "markdown",
   "id": "13e06336-67f6-407f-a8cb-b69f2947676b",
   "metadata": {},
   "source": [
    ":::{admonition} 📝 Check your understanding\n",
    ":class: tip\n",
    "\n",
    "What are the data types of the following values?\n",
    "```\n",
    "x = 9\n",
    "y = 'stratocumulus'\n",
    "z = False\n",
    "i = 3.0\n",
    "j = '2'\n",
    "k = \"true\"\n",
    "```\n",
    ":::"
   ]
  },
  {
   "cell_type": "markdown",
   "id": "e842e520-cfae-4a85-96ea-c5fd9e152499",
   "metadata": {},
   "source": [
    "### 🤔 Why have data types?"
   ]
  },
  {
   "cell_type": "code",
   "execution_count": 23,
   "id": "9aa4e2cb-646d-48a3-9470-8d385d9325f1",
   "metadata": {},
   "outputs": [],
   "source": [
    "x = 2\n",
    "y = 3\n",
    "a = 'cat'\n",
    "b = 'fish'"
   ]
  },
  {
   "cell_type": "markdown",
   "id": "35a15452-555b-4513-8496-e7a253e9d454",
   "metadata": {},
   "source": [
    "What happens when we add `x` and `y`? How about `a` and `b`?"
   ]
  },
  {
   "cell_type": "code",
   "execution_count": null,
   "id": "3328c109-86d5-4901-b0a5-88a6dd5d9ff0",
   "metadata": {},
   "outputs": [],
   "source": []
  },
  {
   "cell_type": "code",
   "execution_count": null,
   "id": "68ffd6b0-9f7b-4c5a-805a-509f3ee01fc2",
   "metadata": {},
   "outputs": [],
   "source": []
  },
  {
   "cell_type": "markdown",
   "id": "2ced8062-977d-494a-9fe7-fee72a34b4a9",
   "metadata": {},
   "source": [
    "What happens when we add `x` and `a`? Or divide `a` and `b`?"
   ]
  },
  {
   "cell_type": "code",
   "execution_count": null,
   "id": "34e56864-b224-405b-bb81-de08947f32a9",
   "metadata": {},
   "outputs": [],
   "source": []
  },
  {
   "cell_type": "markdown",
   "id": "569d5772-fee3-4af4-bfc4-cc4d96dfd70c",
   "metadata": {},
   "source": [
    ":::{admonition} 💡 Key Ideas\n",
    ":class: note\n",
    "\n",
    "We categorize our variables using data types.  Data types helps us understand what the expected values are and what we are allowed to do with a particular variable.\n",
    "\n",
    ":::"
   ]
  },
  {
   "cell_type": "code",
   "execution_count": null,
   "id": "0a5478dc-9a89-4ea5-a7c3-94b76a6413c5",
   "metadata": {},
   "outputs": [],
   "source": []
  },
  {
   "cell_type": "markdown",
   "id": "906a2991-ab40-4195-9149-2074cf998691",
   "metadata": {},
   "source": [
    "## Boolean Operators"
   ]
  },
  {
   "cell_type": "code",
   "execution_count": 28,
   "id": "bf331b8b-e460-41f0-be4e-fe4869e908ed",
   "metadata": {},
   "outputs": [
    {
     "data": {
      "text/plain": [
       "False"
      ]
     },
     "execution_count": 28,
     "metadata": {},
     "output_type": "execute_result"
    }
   ],
   "source": [
    "8 > 9"
   ]
  },
  {
   "cell_type": "code",
   "execution_count": 29,
   "id": "129a081f-ee3a-4acb-97f9-213dd52f7d4e",
   "metadata": {},
   "outputs": [
    {
     "data": {
      "text/plain": [
       "True"
      ]
     },
     "execution_count": 29,
     "metadata": {},
     "output_type": "execute_result"
    }
   ],
   "source": [
    "'six' > 'one'"
   ]
  },
  {
   "cell_type": "code",
   "execution_count": 2,
   "id": "d8072b59-d91c-46ce-b6d4-6ad80baf9804",
   "metadata": {},
   "outputs": [],
   "source": [
    "group = 'oceans'"
   ]
  },
  {
   "cell_type": "code",
   "execution_count": 3,
   "id": "f012eb88-51b3-4118-ab4f-ce864b647dcb",
   "metadata": {},
   "outputs": [
    {
     "data": {
      "text/plain": [
       "False"
      ]
     },
     "execution_count": 3,
     "metadata": {},
     "output_type": "execute_result"
    }
   ],
   "source": [
    "group == 'flux'"
   ]
  },
  {
   "cell_type": "markdown",
   "id": "96e8f293-6e08-46f8-8f78-0c36b3362139",
   "metadata": {},
   "source": [
    "### Why have booleans? if statements"
   ]
  },
  {
   "cell_type": "code",
   "execution_count": 1,
   "id": "9d527645-13be-468c-b90e-16e48f968d3b",
   "metadata": {},
   "outputs": [
    {
     "name": "stdout",
     "output_type": "stream",
     "text": [
      "too cloudy. Bad image\n"
     ]
    }
   ],
   "source": [
    "cloud_cover = 80\n",
    "if cloud_cover > 60:\n",
    "    print('too cloudy. Bad image')\n",
    "else:\n",
    "    print('good image!')\n",
    "    "
   ]
  },
  {
   "cell_type": "code",
   "execution_count": null,
   "id": "fdb7a463-0e82-4b07-9a6b-04c8158edcde",
   "metadata": {},
   "outputs": [],
   "source": []
  },
  {
   "cell_type": "markdown",
   "id": "23113083-b8e7-4dd5-b721-85b411bef6bb",
   "metadata": {},
   "source": [
    "## 🚨🚨🚨 Practice Time"
   ]
  },
  {
   "cell_type": "markdown",
   "id": "207d46d8-178a-4606-a59b-b3d6a266e23c",
   "metadata": {},
   "source": [
    "### Practice Question\n",
    "\n",
    "_Lesson 1.1 Practice Part 2 Question 2_"
   ]
  },
  {
   "cell_type": "markdown",
   "id": "0436eb01-1b1d-4004-813f-5bdb3795ba21",
   "metadata": {},
   "source": [
    "**A)** Google \"Python operators\".  Find a webpage with some operators and try using two of them by writing a line of code in the space below.\n",
    "\n",
    "If you are having a hard time finding a webpage you can use [this one](https://www.w3schools.com/python/python_operators.asp), which is the first page that shows up when I search \"Python operators\"."
   ]
  },
  {
   "cell_type": "code",
   "execution_count": null,
   "id": "a78d6a39-1be6-40ea-9d75-0e1b343cc374",
   "metadata": {},
   "outputs": [],
   "source": []
  },
  {
   "cell_type": "markdown",
   "id": "80c93ada-634e-4c50-a612-10bc4988396a",
   "metadata": {},
   "source": [
    "**B)** Fill in the `# Your code here` space below to compute the area of a circle given the radius.  You can approximate the value of pi with `3.14`."
   ]
  },
  {
   "cell_type": "code",
   "execution_count": null,
   "id": "082f4135-99bf-4909-baba-1911980de8fa",
   "metadata": {
    "scrolled": true
   },
   "outputs": [],
   "source": [
    "radius = 4\n",
    "# Your code here"
   ]
  },
  {
   "cell_type": "code",
   "execution_count": null,
   "id": "ec99fe52-b0a6-4bd0-b9e4-0f939d5148fb",
   "metadata": {},
   "outputs": [],
   "source": []
  },
  {
   "cell_type": "markdown",
   "id": "ff5c70ee-7af4-4bdb-9c9e-8745d556835b",
   "metadata": {},
   "source": [
    ":::{admonition} Hint\n",
    ":class: note, dropdown\n",
    "\n",
    "I haven't told you how to take the square of a variable, so you will either have to do that using the tools you have or do a google search for \"square of a number Python\"\n",
    "\n",
    ":::"
   ]
  },
  {
   "cell_type": "markdown",
   "id": "00a1eb44-9df3-405f-ae73-023c230ab7c5",
   "metadata": {},
   "source": [
    "**C)** Calculate 2 to the 8th power.  Assign it to a variable and print the output.  Include a string in the print statement that says: _2 to the 8th power is:_"
   ]
  },
  {
   "cell_type": "code",
   "execution_count": null,
   "id": "0df64154-aab3-4141-951d-b63b1271b707",
   "metadata": {},
   "outputs": [],
   "source": []
  },
  {
   "cell_type": "markdown",
   "id": "d36dc9e1-70cb-4c2f-8d25-a2076c736d2e",
   "metadata": {},
   "source": [
    "### Bonus Question\n",
    "\n",
    "_Lesson 1.1 Practice Part 2 Question 5_"
   ]
  },
  {
   "cell_type": "markdown",
   "id": "32220258-b575-4677-a55c-062e31283958",
   "metadata": {},
   "source": [
    "As a variable, wind is often expressed as two different numbers, which together make up the complete wind vector:\n",
    "1. wind speed\n",
    "2. wind direction\n",
    "\n",
    "Wind speed is expressed in degrees and follows the following quadrant:\n",
    "\n",
    "<img src=\"https://slideplayer.com/slide/17852123/106/images/17/Wind+Direction+%28degrees%29+Meteorologists+generally+use+degrees.jpg\" width=520>\n",
    "\n",
    "Note that 0 degrees is on top and the degrees increase going clockwise. Use this knowledge to work through the following problems."
   ]
  },
  {
   "cell_type": "markdown",
   "id": "70a7138a-813e-45cb-914f-9b74fcde2761",
   "metadata": {},
   "source": [
    "**A)** Sometimes wind directions are conveyed with numbers greater than 360 degrees.  Numbers above 360 indicate a second rotation around the quadrant. For example:\n",
    "- 450 degrees is the same as 90 degrees\n",
    "- 720 degrees is the same as 0 degrees\n",
    "\n",
    "Given wind directions that are greater than 360, write some code to return the wind direction expressed between 0 and 360.  Check your code works against both of the numbers below."
   ]
  },
  {
   "cell_type": "code",
   "execution_count": null,
   "id": "88f2be97-bea1-4d4f-a549-2dac3d91cc98",
   "metadata": {},
   "outputs": [],
   "source": [
    "large_wind_direction = 512\n",
    "large_wind_direction = 750"
   ]
  },
  {
   "cell_type": "code",
   "execution_count": null,
   "id": "bc701375-5648-46d8-b2fb-9fbd7efe1005",
   "metadata": {},
   "outputs": [],
   "source": []
  },
  {
   "cell_type": "markdown",
   "id": "a075e076-58f4-4ab1-b529-1026103bdbcc",
   "metadata": {},
   "source": [
    ":::{admonition} Hint\n",
    ":class: note, dropdown\n",
    "\n",
    "check out the Python arithmetic operators. Look into what the \"modulus\" is.\n",
    "\n",
    ":::"
   ]
  },
  {
   "cell_type": "markdown",
   "id": "020a1be9-98a8-4bbd-95b1-c4202eac5863",
   "metadata": {},
   "source": [
    "**B)** Write a statement to check if a given wind direction is coming from the west."
   ]
  },
  {
   "cell_type": "code",
   "execution_count": null,
   "id": "dcda0e89-3c27-4146-b697-b98b903e0542",
   "metadata": {},
   "outputs": [],
   "source": [
    "wind_direction = 145"
   ]
  },
  {
   "cell_type": "code",
   "execution_count": null,
   "id": "9c399560-ae75-4ff2-aab2-a98e2748e68e",
   "metadata": {},
   "outputs": [],
   "source": []
  },
  {
   "cell_type": "markdown",
   "id": "5ba6af8e-37d8-4026-9f63-4e42b27c19bc",
   "metadata": {},
   "source": [
    "**C)** Write a block of code that takes a wind direction and prints back to the user the direction the wind is coming from.  You can use a range of values for each direction (i.e. \"east\" means wind coming from between 45 and 135 degrees)."
   ]
  },
  {
   "cell_type": "code",
   "execution_count": null,
   "id": "e3aad7c6-add4-415a-a249-ccb4361f9c21",
   "metadata": {},
   "outputs": [],
   "source": []
  },
  {
   "cell_type": "markdown",
   "id": "abb412e2-5481-4ec2-b100-f6c33649da15",
   "metadata": {},
   "source": [
    "**C)** Monsoon winds in some regions are identified by winds coming from the Northwest (+/- 30 degrees) at greater than or equal to 20 mph.  Write a statement to evaluate if the wind direction/wind speed combination would qualify as a monsoon-type wind."
   ]
  },
  {
   "cell_type": "code",
   "execution_count": null,
   "id": "ff74d5b2-c51e-4d1e-b99f-8e8db98bb78e",
   "metadata": {},
   "outputs": [],
   "source": [
    "wind_speed = 22\n",
    "wind_direction = 43"
   ]
  },
  {
   "cell_type": "code",
   "execution_count": null,
   "id": "d38cb0a0-e1d6-4f44-a2e4-24d3a3798cc6",
   "metadata": {},
   "outputs": [],
   "source": []
  },
  {
   "cell_type": "code",
   "execution_count": null,
   "id": "2de9ef36-9909-4d83-9653-fab14e57f13d",
   "metadata": {},
   "outputs": [],
   "source": []
  },
  {
   "cell_type": "code",
   "execution_count": null,
   "id": "cbc5be6b-a266-4da8-bf93-d4852de8f5d8",
   "metadata": {},
   "outputs": [],
   "source": []
  },
  {
   "cell_type": "markdown",
   "id": "2d95d88e-27c4-4c83-ae75-6786b1240afc",
   "metadata": {},
   "source": [
    "# Part 2 -- Data Structures"
   ]
  },
  {
   "cell_type": "markdown",
   "id": "7b07576d-0ba4-4459-a901-43b6cd504cef",
   "metadata": {},
   "source": [
    "## Lists"
   ]
  },
  {
   "cell_type": "code",
   "execution_count": 13,
   "id": "6351e718-84bf-4d5f-919e-e1e6e7ab2d6c",
   "metadata": {},
   "outputs": [
    {
     "data": {
      "text/plain": [
       "['red', 'green', 'blue', 'yellow', 'white', 'black']"
      ]
     },
     "execution_count": 13,
     "metadata": {},
     "output_type": "execute_result"
    }
   ],
   "source": [
    "# List of colors\n",
    "['red', 'green', 'blue', 'yellow', 'white', 'black']"
   ]
  },
  {
   "cell_type": "code",
   "execution_count": 10,
   "id": "da4f0c74-5c75-466d-b428-43a149c2dae5",
   "metadata": {},
   "outputs": [
    {
     "data": {
      "text/plain": [
       "[4.5, 1.0, 4.3, 4.3, 7.6]"
      ]
     },
     "execution_count": 10,
     "metadata": {},
     "output_type": "execute_result"
    }
   ],
   "source": [
    "# List of pH values\n",
    "[4.5, 1.0, 4.3, 4.3, 7.6]"
   ]
  },
  {
   "cell_type": "code",
   "execution_count": 11,
   "id": "55098376-6dcd-4827-864e-523048f1559d",
   "metadata": {},
   "outputs": [],
   "source": [
    "# Lists can be made up of elements of any type\n",
    "list1 = [\"apple\", \"banana\", \"cherry\"]\n",
    "list2 = [1, 5, 7, 9, 3]\n",
    "list3 = [True, False, False]\n",
    "list4 = [\"abc\", 34, True, 40, \"male\"]"
   ]
  },
  {
   "cell_type": "markdown",
   "id": "93d53223-24c8-4fb1-adf2-febffcaa5e3b",
   "metadata": {},
   "source": [
    "Assigning to a variable:"
   ]
  },
  {
   "cell_type": "code",
   "execution_count": 14,
   "id": "66225794-fada-4f84-9b1a-d490b096ee8e",
   "metadata": {},
   "outputs": [],
   "source": [
    "colors = ['red', 'green', 'blue', 'yellow', 'white', 'black']"
   ]
  },
  {
   "cell_type": "code",
   "execution_count": 17,
   "id": "1dd67c36-291f-4f6c-94da-8bb842c0c2ab",
   "metadata": {},
   "outputs": [],
   "source": [
    "pollutants = ['co', 'co2', 'no2', 'o3']"
   ]
  },
  {
   "cell_type": "markdown",
   "id": "fe9002a5-0200-425c-8d2b-3fffd2a473da",
   "metadata": {},
   "source": [
    "### List Indexes"
   ]
  },
  {
   "cell_type": "code",
   "execution_count": 15,
   "id": "a3bc41d6-3f77-44fb-a1a3-c86ce6284f1e",
   "metadata": {},
   "outputs": [
    {
     "data": {
      "text/plain": [
       "'green'"
      ]
     },
     "execution_count": 15,
     "metadata": {},
     "output_type": "execute_result"
    }
   ],
   "source": [
    "colors[1]"
   ]
  },
  {
   "cell_type": "code",
   "execution_count": null,
   "id": "1532bb82-c13a-4ef0-991c-39c780fc918b",
   "metadata": {},
   "outputs": [],
   "source": []
  },
  {
   "cell_type": "code",
   "execution_count": 16,
   "id": "ee294323-2c4a-4b67-9507-8cf8b33953ed",
   "metadata": {},
   "outputs": [
    {
     "data": {
      "text/plain": [
       "['green', 'blue']"
      ]
     },
     "execution_count": 16,
     "metadata": {},
     "output_type": "execute_result"
    }
   ],
   "source": [
    "colors[1:3]"
   ]
  },
  {
   "cell_type": "markdown",
   "id": "0506b17c-e99d-49d9-bf3b-f24717d5bf80",
   "metadata": {},
   "source": [
    "What happens if we ask for a very large index?"
   ]
  },
  {
   "cell_type": "code",
   "execution_count": null,
   "id": "d3a11569-86e9-4ef5-bb4a-a1b0bc5a6cc5",
   "metadata": {},
   "outputs": [],
   "source": []
  },
  {
   "cell_type": "code",
   "execution_count": null,
   "id": "c0a360ab-4486-4d88-8120-e0e65bbbf78a",
   "metadata": {},
   "outputs": [],
   "source": []
  },
  {
   "cell_type": "markdown",
   "id": "3fbc1e84-d258-4ebd-94a5-dc90553d5610",
   "metadata": {},
   "source": [
    "Indexes are also how you change the value of an element in a list"
   ]
  },
  {
   "cell_type": "code",
   "execution_count": 26,
   "id": "0390796f-054a-4448-b1ed-078749c982b4",
   "metadata": {},
   "outputs": [],
   "source": [
    "colors[2] = 'turqoise'"
   ]
  },
  {
   "cell_type": "code",
   "execution_count": 27,
   "id": "f875d1f6-36eb-45a3-85f5-3267ba621e91",
   "metadata": {},
   "outputs": [
    {
     "data": {
      "text/plain": [
       "['red', 'green', 'turqoise', 'yellow', 'white', 'black']"
      ]
     },
     "execution_count": 27,
     "metadata": {},
     "output_type": "execute_result"
    }
   ],
   "source": [
    "colors"
   ]
  },
  {
   "cell_type": "markdown",
   "id": "3d4151a8-d627-49a7-92ac-b9911ed1dd4e",
   "metadata": {},
   "source": [
    ":::{admonition} Vocabulary\n",
    ":class: tip\n",
    "**Index:** A number that represents the position of an item in a data structure.  “Indexing” as a verb refers to getting the value of that item using its index.\n",
    "\n",
    ":::"
   ]
  },
  {
   "cell_type": "markdown",
   "id": "e14b84d3-bfda-4344-83e7-9669bca45e85",
   "metadata": {},
   "source": [
    "### 🌟Key Clarification\n",
    "In Python (and most programming langauges) you begin counting with indexes at 0 instead of at 1.  So `pollutants[1]` did not return the first item in the list, it returned the second.  You access the first item in the list using `pollutants[0]`.\n",
    "\n",
    "This concept of starting counting at 0 instead of 1 is true across the whole Python language."
   ]
  },
  {
   "cell_type": "markdown",
   "id": "5c0a3c35-e0a2-43b9-88ab-3b980f3258a0",
   "metadata": {},
   "source": [
    ":::{admonition} 📝 Check your understanding\n",
    ":class: tip\n",
    "\n",
    "Use the following list to answer the questions:\n",
    "`pollutants = ['co', 'co2', 'no2', 'o3']`\n",
    "\n",
    "What is the index you should use to find the value of the last item in the `pollutants` list?\n",
    ":::"
   ]
  },
  {
   "cell_type": "markdown",
   "id": "fbbff5e1-c287-4a8b-bd56-db61c8ad125d",
   "metadata": {},
   "source": [
    "## Functions / Methods\n",
    "\n",
    "> Data structures represent data. How do we manipulate or change that data?"
   ]
  },
  {
   "cell_type": "markdown",
   "id": "a124c21b-2f72-4723-97cc-c312cdc1729a",
   "metadata": {},
   "source": [
    "Adding a new item to a list"
   ]
  },
  {
   "cell_type": "code",
   "execution_count": 20,
   "id": "d191702a-a6d9-4784-ac90-4d5cd42e5684",
   "metadata": {},
   "outputs": [],
   "source": [
    "pollutants.append('ch4')"
   ]
  },
  {
   "cell_type": "code",
   "execution_count": 21,
   "id": "460b19fb-dc62-40f4-9712-f9ed0e7bb48f",
   "metadata": {},
   "outputs": [
    {
     "data": {
      "text/plain": [
       "['co', 'co2', 'no2', 'o3', 'ch4']"
      ]
     },
     "execution_count": 21,
     "metadata": {},
     "output_type": "execute_result"
    }
   ],
   "source": [
    "pollutants"
   ]
  },
  {
   "cell_type": "markdown",
   "id": "3f406c46-b440-455c-a31f-4001a64ab331",
   "metadata": {},
   "source": [
    "Removing an element from a list"
   ]
  },
  {
   "cell_type": "code",
   "execution_count": 22,
   "id": "820ad552-1cf3-41b1-ade3-e45120d179b3",
   "metadata": {},
   "outputs": [],
   "source": [
    "pollutants.remove('co2')"
   ]
  },
  {
   "cell_type": "code",
   "execution_count": 23,
   "id": "0382c749-1325-43f8-9b4b-ec419d662356",
   "metadata": {},
   "outputs": [
    {
     "data": {
      "text/plain": [
       "['co', 'no2', 'o3', 'ch4']"
      ]
     },
     "execution_count": 23,
     "metadata": {},
     "output_type": "execute_result"
    }
   ],
   "source": [
    "pollutants"
   ]
  },
  {
   "cell_type": "markdown",
   "id": "e5e67aef-67f1-4994-a9da-a07f5c8fd311",
   "metadata": {},
   "source": [
    "Sorting the elements in the list alphabetically"
   ]
  },
  {
   "cell_type": "code",
   "execution_count": 24,
   "id": "05f73102-bc6b-4cc0-9be0-72b42383e0b4",
   "metadata": {},
   "outputs": [],
   "source": [
    "pollutants.sort()"
   ]
  },
  {
   "cell_type": "code",
   "execution_count": 25,
   "id": "7d9263ca-9c21-4c3b-8b0c-5f648583b27d",
   "metadata": {},
   "outputs": [
    {
     "data": {
      "text/plain": [
       "['ch4', 'co', 'no2', 'o3']"
      ]
     },
     "execution_count": 25,
     "metadata": {},
     "output_type": "execute_result"
    }
   ],
   "source": [
    "pollutants"
   ]
  },
  {
   "cell_type": "code",
   "execution_count": 38,
   "id": "88f10ef5-22b5-4479-8bc9-f6269cc650a5",
   "metadata": {},
   "outputs": [],
   "source": [
    "pollutants.sort(reverse=True)"
   ]
  },
  {
   "cell_type": "code",
   "execution_count": 39,
   "id": "0e9b0720-2ca9-4e57-a20b-8adcbd0d4c34",
   "metadata": {},
   "outputs": [
    {
     "data": {
      "text/plain": [
       "['o3', 'no2', 'co', 'ch4', 'ch4']"
      ]
     },
     "execution_count": 39,
     "metadata": {},
     "output_type": "execute_result"
    }
   ],
   "source": [
    "pollutants"
   ]
  },
  {
   "cell_type": "markdown",
   "id": "c74eb3e7-6025-43c9-8518-60afbec08c3a",
   "metadata": {},
   "source": [
    "Count how many elements have that value"
   ]
  },
  {
   "cell_type": "code",
   "execution_count": 28,
   "id": "77977418-3158-4ddd-9014-105bdaf44a39",
   "metadata": {},
   "outputs": [
    {
     "data": {
      "text/plain": [
       "1"
      ]
     },
     "execution_count": 28,
     "metadata": {},
     "output_type": "execute_result"
    }
   ],
   "source": [
    "pollutants.count('no2')"
   ]
  },
  {
   "cell_type": "code",
   "execution_count": 29,
   "id": "a53547a0-51d8-43f3-8ac7-130f17e43239",
   "metadata": {},
   "outputs": [
    {
     "data": {
      "text/plain": [
       "0"
      ]
     },
     "execution_count": 29,
     "metadata": {},
     "output_type": "execute_result"
    }
   ],
   "source": [
    "pollutants.count('nox')"
   ]
  },
  {
   "cell_type": "markdown",
   "id": "7404975b-a648-4e78-8742-ba1af5712933",
   "metadata": {},
   "source": [
    "See how many items are in a list"
   ]
  },
  {
   "cell_type": "code",
   "execution_count": 19,
   "id": "a46306b6-3cae-4d5e-b593-5ffc7f89b583",
   "metadata": {},
   "outputs": [
    {
     "data": {
      "text/plain": [
       "4"
      ]
     },
     "execution_count": 19,
     "metadata": {},
     "output_type": "execute_result"
    }
   ],
   "source": [
    "len(pollutants)"
   ]
  },
  {
   "cell_type": "markdown",
   "id": "89ff9e21-f7c7-4f1d-ad99-d0570d33734e",
   "metadata": {},
   "source": [
    ":::{admonition} Vocabulary\n",
    ":class: tip\n",
    "**Function/Method:**  Actions that you use to manipulate or inspect an object, such as adding new numbers or sorting items\n",
    ":::"
   ]
  },
  {
   "cell_type": "markdown",
   "id": "1e260224-cf72-458f-a65f-34a7f3672be4",
   "metadata": {},
   "source": [
    "### Arguments"
   ]
  },
  {
   "cell_type": "markdown",
   "id": "61c2daa4-31d7-430b-aa32-a906e6f4e25b",
   "metadata": {},
   "source": [
    ":::{admonition} Vocabulary\n",
    ":class: tip\n",
    "**Argument (arg 🏴‍☠️):**  An  input into a function that gives additional information about how to execute the function. Can be a plain argument or a keyword argument (kwarg)\n",
    ":::"
   ]
  },
  {
   "cell_type": "code",
   "execution_count": 37,
   "id": "f69dab78-bf82-4bdf-b7e6-b1bff2d0d38d",
   "metadata": {},
   "outputs": [],
   "source": [
    "# 'ch4' is the argument\n",
    "pollutants.append('ch4')"
   ]
  },
  {
   "cell_type": "code",
   "execution_count": null,
   "id": "e7c6d969-e199-4d5c-b3e1-bcd7bb07e041",
   "metadata": {},
   "outputs": [],
   "source": []
  },
  {
   "cell_type": "markdown",
   "id": "8248951f-72ef-411a-9ba1-b973aa893e77",
   "metadata": {},
   "source": [
    "Another argument syntax: keyword arguments"
   ]
  },
  {
   "cell_type": "code",
   "execution_count": null,
   "id": "14ba55a0-7501-492e-9343-f30f66e7d633",
   "metadata": {},
   "outputs": [],
   "source": [
    "pollutants.sort(reverse=True)"
   ]
  },
  {
   "cell_type": "code",
   "execution_count": 36,
   "id": "8b77e00f-51b1-4c8a-9b14-c655a1fee106",
   "metadata": {},
   "outputs": [
    {
     "data": {
      "text/plain": [
       "['o3', 'no2', 'co', 'ch4']"
      ]
     },
     "execution_count": 36,
     "metadata": {},
     "output_type": "execute_result"
    }
   ],
   "source": [
    "pollutants"
   ]
  },
  {
   "cell_type": "code",
   "execution_count": null,
   "id": "b8c0fed2-5161-454e-b868-e0413c57d8a6",
   "metadata": {},
   "outputs": [],
   "source": []
  },
  {
   "cell_type": "code",
   "execution_count": null,
   "id": "1321eaf1-b82d-49b7-ab11-42e2c473ff64",
   "metadata": {},
   "outputs": [],
   "source": []
  },
  {
   "cell_type": "markdown",
   "id": "a6a7ee63-78b2-4a07-a1bb-d8e90fb1c747",
   "metadata": {},
   "source": [
    ":::{admonition} 📝 Check your understanding\n",
    ":class: tip\n",
    "\n",
    "Look at the Python List methods listed on [this page](https://www.geeksforgeeks.org/python/list-methods-python/ ) from W3 schools. Write a line of code using a method on that page to modify the `pollutants` list. \n",
    "\n",
    "(Bonus - choose a method that needs an argument)\n",
    "\n",
    ":::"
   ]
  },
  {
   "cell_type": "markdown",
   "id": "30c8e0ec-3286-4ea4-9117-3998092edc94",
   "metadata": {},
   "source": [
    "## Dictionaries"
   ]
  },
  {
   "cell_type": "code",
   "execution_count": 40,
   "id": "f90df96d-e321-4c5d-b98f-0fbd23b8520a",
   "metadata": {},
   "outputs": [
    {
     "data": {
      "text/plain": [
       "{'name': 'Dyamond',\n",
       " 'age': 25,\n",
       " 'job': 'Dev',\n",
       " 'city': 'New York',\n",
       " 'email': 'dyamond@web.com'}"
      ]
     },
     "execution_count": 40,
     "metadata": {},
     "output_type": "execute_result"
    }
   ],
   "source": [
    "{\n",
    "    'name': 'Dyamond',\n",
    "    'age': 25,\n",
    "    'job': 'Dev',\n",
    "    'city': 'New York',\n",
    "    'email': 'dyamond@web.com',\n",
    "}"
   ]
  },
  {
   "cell_type": "markdown",
   "id": "73bb90d7-8df1-44d5-8cc0-a1482d6db261",
   "metadata": {},
   "source": [
    "You don't have to write them all spread out like that"
   ]
  },
  {
   "cell_type": "code",
   "execution_count": 41,
   "id": "eec45d55-2792-48d8-ac87-e0aac82b8f2c",
   "metadata": {},
   "outputs": [
    {
     "data": {
      "text/plain": [
       "{'name': 'Dyamond',\n",
       " 'age': 25,\n",
       " 'job': 'Dev',\n",
       " 'city': 'New York',\n",
       " 'email': 'dyamond@web.com'}"
      ]
     },
     "execution_count": 41,
     "metadata": {},
     "output_type": "execute_result"
    }
   ],
   "source": [
    "{'name': 'Dyamond', 'age': 25, 'job': 'Dev', 'city': 'New York', 'email': 'dyamond@web.com',}"
   ]
  },
  {
   "cell_type": "markdown",
   "id": "30d835a6-f85a-4501-adcc-305f1da059b1",
   "metadata": {},
   "source": [
    "Assigning to a variable"
   ]
  },
  {
   "cell_type": "code",
   "execution_count": 42,
   "id": "e4819cde-9e2e-4539-ab51-15a85a8e9f8a",
   "metadata": {},
   "outputs": [],
   "source": [
    "human = {'name': 'Dyamond', 'age': 25, 'job': 'Dev', 'city': 'New York', 'email': 'dyamond@web.com',},"
   ]
  },
  {
   "cell_type": "markdown",
   "id": "d126c462-10fd-4c7d-a264-b9257bed71fa",
   "metadata": {},
   "source": [
    "### Inspecting a Dictionary"
   ]
  },
  {
   "cell_type": "code",
   "execution_count": 43,
   "id": "c6826489-6889-4ca5-ab30-dfa713186b94",
   "metadata": {},
   "outputs": [],
   "source": [
    "metadata = {\n",
    "    'location': 'Nairobi', \n",
    "    'quality_flag': 5, \n",
    "    'zenith': 60, \n",
    "    'clouds': True,\n",
    "    'data_center': ['LPDAAC', 'ASDC'],\n",
    "}"
   ]
  },
  {
   "cell_type": "code",
   "execution_count": 44,
   "id": "8485fbc4-b989-4496-972e-390d25e684a3",
   "metadata": {},
   "outputs": [
    {
     "data": {
      "text/plain": [
       "60"
      ]
     },
     "execution_count": 44,
     "metadata": {},
     "output_type": "execute_result"
    }
   ],
   "source": [
    "metadata['zenith']"
   ]
  },
  {
   "cell_type": "code",
   "execution_count": 45,
   "id": "072169ef-1bc2-4251-822c-586aed8f3b07",
   "metadata": {},
   "outputs": [
    {
     "data": {
      "text/plain": [
       "dict_keys(['location', 'quality_flag', 'zenith', 'clouds', 'data_center'])"
      ]
     },
     "execution_count": 45,
     "metadata": {},
     "output_type": "execute_result"
    }
   ],
   "source": [
    "metadata.keys()"
   ]
  },
  {
   "cell_type": "code",
   "execution_count": 46,
   "id": "dad92269-7096-4350-b6f4-b44c870e8035",
   "metadata": {},
   "outputs": [
    {
     "data": {
      "text/plain": [
       "dict_values(['Nairobi', 5, 60, True, ['LPDAAC', 'ASDC']])"
      ]
     },
     "execution_count": 46,
     "metadata": {},
     "output_type": "execute_result"
    }
   ],
   "source": [
    "metadata.values()"
   ]
  },
  {
   "cell_type": "code",
   "execution_count": null,
   "id": "26f008e3-b543-4c89-939a-7d098a11a0f8",
   "metadata": {},
   "outputs": [],
   "source": []
  },
  {
   "cell_type": "code",
   "execution_count": 47,
   "id": "0a4a3602-e08a-4f20-80f2-e3d088c728d3",
   "metadata": {},
   "outputs": [
    {
     "ename": "KeyError",
     "evalue": "'agency'",
     "output_type": "error",
     "traceback": [
      "\u001b[0;31m---------------------------------------------------------------------------\u001b[0m",
      "\u001b[0;31mKeyError\u001b[0m                                  Traceback (most recent call last)",
      "Cell \u001b[0;32mIn[47], line 1\u001b[0m\n\u001b[0;32m----> 1\u001b[0m \u001b[43mmetadata\u001b[49m\u001b[43m[\u001b[49m\u001b[38;5;124;43m'\u001b[39;49m\u001b[38;5;124;43magency\u001b[39;49m\u001b[38;5;124;43m'\u001b[39;49m\u001b[43m]\u001b[49m\n",
      "\u001b[0;31mKeyError\u001b[0m: 'agency'"
     ]
    }
   ],
   "source": [
    "metadata['agency']"
   ]
  },
  {
   "cell_type": "markdown",
   "id": "6ab0ad75-7249-4879-8692-be65318a558a",
   "metadata": {},
   "source": [
    "### Changing a value in a dictionary"
   ]
  },
  {
   "cell_type": "code",
   "execution_count": 4,
   "id": "887df5f6-ac1f-4ade-abe4-3c4dd69ffd92",
   "metadata": {},
   "outputs": [
    {
     "ename": "NameError",
     "evalue": "name 'metadata' is not defined",
     "output_type": "error",
     "traceback": [
      "\u001b[0;31m---------------------------------------------------------------------------\u001b[0m",
      "\u001b[0;31mNameError\u001b[0m                                 Traceback (most recent call last)",
      "Cell \u001b[0;32mIn[4], line 1\u001b[0m\n\u001b[0;32m----> 1\u001b[0m \u001b[43mmetadata\u001b[49m[\u001b[38;5;124m'\u001b[39m\u001b[38;5;124magency\u001b[39m\u001b[38;5;124m'\u001b[39m] \u001b[38;5;241m=\u001b[39m \u001b[38;5;124m'\u001b[39m\u001b[38;5;124mNASA\u001b[39m\u001b[38;5;124m'\u001b[39m\n",
      "\u001b[0;31mNameError\u001b[0m: name 'metadata' is not defined"
     ]
    }
   ],
   "source": [
    "metadata['agency'] = 'NASA'"
   ]
  },
  {
   "cell_type": "code",
   "execution_count": null,
   "id": "d044c770-15ef-431e-b7d6-fc8956133675",
   "metadata": {},
   "outputs": [],
   "source": []
  },
  {
   "cell_type": "markdown",
   "id": "2146dc20-f058-4ca8-83b8-2bfbc13c1a61",
   "metadata": {},
   "source": [
    "## Practice Problem"
   ]
  },
  {
   "cell_type": "markdown",
   "id": "e5e4cf64-67e3-4ca0-ac36-122ef679e420",
   "metadata": {},
   "source": [
    "A) Change the value for `state` to `PA` in the dictionary below."
   ]
  },
  {
   "cell_type": "code",
   "execution_count": 3,
   "id": "4602abba-e048-478c-9be2-c01b356cfcd4",
   "metadata": {},
   "outputs": [],
   "source": [
    "census_block7 = {\n",
    "    'state': 'NY',\n",
    "    'block_groups': ['01', '02', '03', '04'],\n",
    "    'median_education': 'some_bachelors',\n",
    "    'total_housing_units': 9329432,\n",
    "}"
   ]
  },
  {
   "cell_type": "code",
   "execution_count": null,
   "id": "2ef7e75c-f628-4f89-a905-9507a66c96e5",
   "metadata": {},
   "outputs": [],
   "source": []
  },
  {
   "cell_type": "markdown",
   "id": "6f23b3ae-2ab0-4ec8-9712-70bbe90bbc09",
   "metadata": {},
   "source": [
    "B) Add the value 78.2 for a new item called `employment_rate` to the `census_block7` dictionary above"
   ]
  },
  {
   "cell_type": "code",
   "execution_count": null,
   "id": "441694e2-9874-4330-a108-850d43f12f47",
   "metadata": {},
   "outputs": [],
   "source": []
  },
  {
   "cell_type": "code",
   "execution_count": null,
   "id": "a5be18af-b4df-4656-8820-baaad5fc6c85",
   "metadata": {},
   "outputs": [],
   "source": []
  },
  {
   "cell_type": "markdown",
   "id": "13b58530-5946-49d7-9da2-7d1330c39a99",
   "metadata": {},
   "source": [
    "## Bonus Practice Problem"
   ]
  },
  {
   "cell_type": "markdown",
   "id": "8b985e64-689d-44a0-9ebc-38366511237f",
   "metadata": {},
   "source": [
    "Another common example of nested objects is a list of dictionaries.  Below we have the same nested dictionary as in question two, but we have a list of three states' data."
   ]
  },
  {
   "cell_type": "code",
   "execution_count": 11,
   "id": "a7705f3d-a3cd-4486-8935-6eaf8212cd64",
   "metadata": {},
   "outputs": [],
   "source": [
    "census_by_state = [\n",
    "    {\n",
    "        'state': 'AK',\n",
    "        'motto': 'north to the future',\n",
    "        'num_of_counties': 29,\n",
    "        'population': {\n",
    "            'ages_0_25': 28393,\n",
    "            'ages_25_50': 25920,\n",
    "            'ages_over_50': 8943,\n",
    "            }\n",
    "    },\n",
    "    {\n",
    "        'state': 'FL',\n",
    "        'motto': 'in god we trust',\n",
    "        'num_of_counties': 67,\n",
    "        'population': {\n",
    "            'ages_0_25': 382933,\n",
    "            'ages_25_50': 483923,\n",
    "            'ages_over_50': 938923,\n",
    "            },\n",
    "    },\n",
    "    {\n",
    "        'state': 'MN',\n",
    "        'motto': 'letoile du nord',\n",
    "        'num_of_counties': 87,\n",
    "        'population': {\n",
    "            'ages_0_25': 39323,\n",
    "            'ages_25_50': 109282,\n",
    "            'ages_over_50': 92837,\n",
    "        },\n",
    "    },\n",
    "]"
   ]
  },
  {
   "cell_type": "markdown",
   "id": "6f4d634e-5b82-4c52-9864-464537b9e031",
   "metadata": {},
   "source": [
    "**A)** Print the following population numbers:\n",
    "* population ages 25-50 in Alaska\n",
    "* number of counties in Florida\n",
    "* population ages 0-25 in Minnesota\n",
    "* motto of alaska"
   ]
  },
  {
   "cell_type": "code",
   "execution_count": null,
   "id": "7fdf9aa3-5be6-4f82-a38c-dd5366f333ac",
   "metadata": {},
   "outputs": [],
   "source": []
  },
  {
   "cell_type": "markdown",
   "id": "113a25bb-614f-463f-948d-036bd1378e2d",
   "metadata": {},
   "source": [
    "**B)** Change:\n",
    "* the population over age 50 in florida to 8898\n",
    "* the motto of minnesota to \"go pack go!\"\n",
    "* the number of counties in alaska to 31"
   ]
  },
  {
   "cell_type": "code",
   "execution_count": null,
   "id": "3679ea0f-0673-427a-be50-cfa0e6da60cf",
   "metadata": {},
   "outputs": [],
   "source": []
  },
  {
   "cell_type": "markdown",
   "id": "74b433c0-4a66-4db3-a515-a637edbf7f66",
   "metadata": {},
   "source": [
    "**C)** Add a new state to the list of dictionaries.  Pick whatever state and values you want."
   ]
  },
  {
   "cell_type": "code",
   "execution_count": null,
   "id": "18c98332-84e1-4fb9-9a84-7d53fc774e29",
   "metadata": {},
   "outputs": [],
   "source": []
  },
  {
   "cell_type": "code",
   "execution_count": null,
   "id": "b493ef09-77c8-4e22-8abb-27d30eb0320b",
   "metadata": {},
   "outputs": [],
   "source": []
  },
  {
   "cell_type": "code",
   "execution_count": null,
   "id": "5169260d-280a-401f-9ad6-aaa9f6fabcbd",
   "metadata": {},
   "outputs": [],
   "source": []
  },
  {
   "cell_type": "code",
   "execution_count": null,
   "id": "3e8796b4-7f7f-47d3-a690-57279084d61d",
   "metadata": {},
   "outputs": [],
   "source": []
  }
 ],
 "metadata": {
  "kernelspec": {
   "display_name": "Python 3 (ipykernel)",
   "language": "python",
   "name": "python3"
  },
  "language_info": {
   "codemirror_mode": {
    "name": "ipython",
    "version": 3
   },
   "file_extension": ".py",
   "mimetype": "text/x-python",
   "name": "python",
   "nbconvert_exporter": "python",
   "pygments_lexer": "ipython3",
   "version": "3.11.11"
  }
 },
 "nbformat": 4,
 "nbformat_minor": 5
}
